{
 "cells": [
  {
   "cell_type": "code",
   "execution_count": 1,
   "id": "6af2cdf3",
   "metadata": {},
   "outputs": [],
   "source": [
    "import numpy as np"
   ]
  },
  {
   "cell_type": "markdown",
   "id": "898f4169",
   "metadata": {},
   "source": [
    "# Creating Arrays"
   ]
  },
  {
   "cell_type": "code",
   "execution_count": null,
   "id": "fa292547",
   "metadata": {},
   "outputs": [],
   "source": [
    "# One Dimenntion"
   ]
  },
  {
   "cell_type": "code",
   "execution_count": 4,
   "id": "e868132c",
   "metadata": {},
   "outputs": [
    {
     "data": {
      "text/plain": [
       "array([1, 2, 4])"
      ]
     },
     "execution_count": 4,
     "metadata": {},
     "output_type": "execute_result"
    }
   ],
   "source": [
    "n = np.array([1,2,4])\n",
    "n"
   ]
  },
  {
   "cell_type": "code",
   "execution_count": 5,
   "id": "2c10b54d",
   "metadata": {},
   "outputs": [],
   "source": [
    "# Two Dimention "
   ]
  },
  {
   "cell_type": "code",
   "execution_count": 10,
   "id": "f71d176c",
   "metadata": {},
   "outputs": [
    {
     "data": {
      "text/plain": [
       "array([[1, 2, 3],\n",
       "       [4, 5, 6]])"
      ]
     },
     "execution_count": 10,
     "metadata": {},
     "output_type": "execute_result"
    }
   ],
   "source": [
    "two_d = np.array([(1,2,3),(4,5,6)])\n",
    "two_d"
   ]
  },
  {
   "cell_type": "code",
   "execution_count": 12,
   "id": "07b16983",
   "metadata": {},
   "outputs": [
    {
     "data": {
      "text/plain": [
       "array([[1., 2., 3.],\n",
       "       [4., 5., 6.],\n",
       "       [7., 8., 9.]])"
      ]
     },
     "execution_count": 12,
     "metadata": {},
     "output_type": "execute_result"
    }
   ],
   "source": [
    "multiple_d = np.array([(1,2,3),(4,5,6),(7,8,9)], dtype = float)\n",
    "multiple_d"
   ]
  },
  {
   "cell_type": "code",
   "execution_count": 17,
   "id": "337e8300",
   "metadata": {},
   "outputs": [
    {
     "data": {
      "text/plain": [
       "'\\nshape : integer or sequence of integers\\norder  : C_contiguous or F_contiguous\\n         C-contiguous order in memory(last index varies the fastest)\\n         C order means that operating row-rise on the array will be slightly quicker\\n         FORTRAN-contiguous order in memory (first index varies the fastest).\\n         F order means that column-wise operations will be faster. \\ndtype : [optional, float(byDeafult)] Data type of returned array. \\n\\n'"
      ]
     },
     "execution_count": 17,
     "metadata": {},
     "output_type": "execute_result"
    }
   ],
   "source": [
    "# syntax :- numpy.zeros(shape, dtype = None, order = 'C')\n",
    "# \n",
    "# shape : integer or sequence of integers\n",
    "# order  : C_contiguous or F_contiguous\n",
    "#          C-contiguous order in memory(last index varies the fastest)\n",
    "#          C order means that operating row-rise on the array will be slightly quicker\n",
    "#          FORTRAN-contiguous order in memory (first index varies the fastest).\n",
    "#          F order means that column-wise operations will be faster. \n",
    "# dtype : [optional, float(byDeafult)] Data type of returned array. \n"
   ]
  },
  {
   "cell_type": "code",
   "execution_count": 21,
   "id": "01a1dcab",
   "metadata": {},
   "outputs": [
    {
     "data": {
      "text/plain": [
       "array([[0],\n",
       "       [0],\n",
       "       [0],\n",
       "       [0],\n",
       "       [0],\n",
       "       [0],\n",
       "       [0],\n",
       "       [0],\n",
       "       [0],\n",
       "       [0]])"
      ]
     },
     "execution_count": 21,
     "metadata": {},
     "output_type": "execute_result"
    }
   ],
   "source": [
    "np.zeros((10,1),int,'f')"
   ]
  },
  {
   "cell_type": "code",
   "execution_count": 22,
   "id": "bad15e01",
   "metadata": {},
   "outputs": [],
   "source": [
    "# Syntax: numpy.ones(shape, dtype = None, order = 'C') \n",
    "# \n",
    "# shape : integer or sequence of integers\n",
    "# order  : C_contiguous or F_contiguous\n",
    "#          C-contiguous order in memory(last index varies the fastest)\n",
    "#          C order means that operating row-rise on the array will be slightly quicker\n",
    "#          FORTRAN-contiguous order in memory (first index varies the fastest).\n",
    "#          F order means that column-wise operations will be faster. \n",
    "# dtype : [optional, float(byDeafult)] Data type of returned array. \n"
   ]
  },
  {
   "cell_type": "code",
   "execution_count": 23,
   "id": "c80932b8",
   "metadata": {},
   "outputs": [
    {
     "data": {
      "text/plain": [
       "array([[1, 1, 1, 1, 1, 1, 1, 1, 1, 1],\n",
       "       [1, 1, 1, 1, 1, 1, 1, 1, 1, 1],\n",
       "       [1, 1, 1, 1, 1, 1, 1, 1, 1, 1],\n",
       "       [1, 1, 1, 1, 1, 1, 1, 1, 1, 1],\n",
       "       [1, 1, 1, 1, 1, 1, 1, 1, 1, 1],\n",
       "       [1, 1, 1, 1, 1, 1, 1, 1, 1, 1],\n",
       "       [1, 1, 1, 1, 1, 1, 1, 1, 1, 1],\n",
       "       [1, 1, 1, 1, 1, 1, 1, 1, 1, 1],\n",
       "       [1, 1, 1, 1, 1, 1, 1, 1, 1, 1],\n",
       "       [1, 1, 1, 1, 1, 1, 1, 1, 1, 1]])"
      ]
     },
     "execution_count": 23,
     "metadata": {},
     "output_type": "execute_result"
    }
   ],
   "source": [
    "np.ones((10,10),int,'c')"
   ]
  },
  {
   "cell_type": "code",
   "execution_count": 24,
   "id": "6b0f0b79",
   "metadata": {},
   "outputs": [],
   "source": [
    "# The arange([start,] stop[, step,][, dtype]) \n",
    "# arange Returns an array with evenly spaced elements as per the interval.\n",
    "# The interval mentioned is half-opened i.e. [Start, Stop) \n",
    "# start : [optional] start of interval range. By default start = 0\n",
    "# stop  : end of interval range\n",
    "# step  : [optional] step size of interval. By default step size = 1,  \n",
    "# For any output out, this is the distance between two adjacent values, out[i+1] - out[i]. \n",
    "# dtype : type of output array"
   ]
  },
  {
   "cell_type": "code",
   "execution_count": 29,
   "id": "99796221",
   "metadata": {},
   "outputs": [
    {
     "data": {
      "text/plain": [
       "array([  0.,  10.,  20.,  30.,  40.,  50.,  60.,  70.,  80.,  90., 100.])"
      ]
     },
     "execution_count": 29,
     "metadata": {},
     "output_type": "execute_result"
    }
   ],
   "source": [
    "np.arange(0,101,10, dtype=float)"
   ]
  },
  {
   "cell_type": "code",
   "execution_count": 27,
   "id": "71b4ccf1",
   "metadata": {},
   "outputs": [
    {
     "data": {
      "text/plain": [
       "array([ 0,  2,  4,  6,  8, 10, 12, 14, 16, 18, 20])"
      ]
     },
     "execution_count": 27,
     "metadata": {},
     "output_type": "execute_result"
    }
   ],
   "source": [
    "np.arange(0,21,2, dtype = int)"
   ]
  },
  {
   "cell_type": "code",
   "execution_count": 47,
   "id": "8cb5dd39",
   "metadata": {},
   "outputs": [],
   "source": [
    "# The numpy.linspace() function returns number spaces evenly w.r.t interval. \n",
    "# Similar to numpy.arange() function but instead of step it uses sample number. \n",
    "\n",
    "\n",
    "# numpy.linspace(start,\n",
    "#                stop,\n",
    "#                num = 50,\n",
    "#                endpoint = True,\n",
    "#                retstep = False,\n",
    "#                dtype = None)\n",
    "# -> start  : [optional] start of interval range. By default start = 0\n",
    "# -> stop   : end of interval range\n",
    "# -> retstep : If True, return (samples, step). \n",
    "#  By default restep = False( True means sample will be [start,stop], False means [start,stop)])\n",
    "# -> num    : [int, optional] No. of samples to generate\n",
    "# -> dtype  : type of output array"
   ]
  },
  {
   "cell_type": "code",
   "execution_count": 38,
   "id": "16a89911",
   "metadata": {},
   "outputs": [
    {
     "data": {
      "text/plain": [
       "(array([ -30. ,  227.5,  485. ,  742.5, 1000. ]), 257.5)"
      ]
     },
     "execution_count": 38,
     "metadata": {},
     "output_type": "execute_result"
    }
   ],
   "source": [
    "np.linspace(start = -30, stop=1000, num = 5, retstep = True)"
   ]
  },
  {
   "cell_type": "code",
   "execution_count": 46,
   "id": "a3e44998",
   "metadata": {},
   "outputs": [
    {
     "data": {
      "text/plain": [
       "array([1.  , 1.45, 1.9 , 2.35, 2.8 , 3.25, 3.7 , 4.15, 4.6 , 5.05, 5.5 ,\n",
       "       5.95, 6.4 , 6.85, 7.3 , 7.75, 8.2 , 8.65, 9.1 , 9.55])"
      ]
     },
     "execution_count": 46,
     "metadata": {},
     "output_type": "execute_result"
    }
   ],
   "source": [
    "np.linspace(1,10,20,False)"
   ]
  },
  {
   "cell_type": "code",
   "execution_count": null,
   "id": "3c161ffe",
   "metadata": {},
   "outputs": [],
   "source": [
    "# numpy.full(shape, fill_value, dtype = None, order = ‘C’) :\n",
    "# Return a new array with the same shape and type as a given array filled with a fill_value.shape : Number of rows\n",
    "# order      : C_contiguous or F_contiguous\n",
    "# dtype      : [optional, float(by Default)] Data type of returned array.  \n",
    "# fill_value : [bool, optional] Value to fill in the array."
   ]
  },
  {
   "cell_type": "code",
   "execution_count": 48,
   "id": "7cd85e4c",
   "metadata": {},
   "outputs": [
    {
     "data": {
      "text/plain": [
       "array([[99, 99, 99, 99, 99, 99, 99, 99, 99, 99]])"
      ]
     },
     "execution_count": 48,
     "metadata": {},
     "output_type": "execute_result"
    }
   ],
   "source": [
    "np.full([1,10],99,dtype = int, order = 'c')"
   ]
  },
  {
   "cell_type": "code",
   "execution_count": 49,
   "id": "b573c5c0",
   "metadata": {},
   "outputs": [
    {
     "data": {
      "text/plain": [
       "array([[9, 9, 9, 9, 9, 9, 9, 9, 9, 9],\n",
       "       [9, 9, 9, 9, 9, 9, 9, 9, 9, 9],\n",
       "       [9, 9, 9, 9, 9, 9, 9, 9, 9, 9],\n",
       "       [9, 9, 9, 9, 9, 9, 9, 9, 9, 9],\n",
       "       [9, 9, 9, 9, 9, 9, 9, 9, 9, 9],\n",
       "       [9, 9, 9, 9, 9, 9, 9, 9, 9, 9],\n",
       "       [9, 9, 9, 9, 9, 9, 9, 9, 9, 9],\n",
       "       [9, 9, 9, 9, 9, 9, 9, 9, 9, 9],\n",
       "       [9, 9, 9, 9, 9, 9, 9, 9, 9, 9],\n",
       "       [9, 9, 9, 9, 9, 9, 9, 9, 9, 9]])"
      ]
     },
     "execution_count": 49,
     "metadata": {},
     "output_type": "execute_result"
    }
   ],
   "source": [
    "np.full([10,10],9,dtype = int, order = 'f')"
   ]
  },
  {
   "cell_type": "code",
   "execution_count": null,
   "id": "8e27c22d",
   "metadata": {},
   "outputs": [],
   "source": [
    "# numpy.eye(R, C = None, k = 0, dtype = type <‘float’>) \n",
    "# : –The eye tool returns a 2-D array with  1’s as the diagonal and  0’s elsewhere. \n",
    "# The diagonal can be main, upper, or lower depending on the optional parameter k. \n",
    "# A positive k is for the upper diagonal,\n",
    "# a negative k is for the lower, and a  0 k (default) is for the main diagonal."
   ]
  },
  {
   "cell_type": "code",
   "execution_count": null,
   "id": "ba61dd0c",
   "metadata": {},
   "outputs": [],
   "source": [
    "# R : Number of rows\n",
    "# C : [optional] Number of columns; By default M = N\n",
    "# k : [int, optional, 0 by default]\n",
    "#           Diagonal we require; k>0 means diagonal above main diagonal or vice versa.\n",
    "# dtype : [optional, float(by Default)] Data type of returned array.  "
   ]
  },
  {
   "cell_type": "code",
   "execution_count": 50,
   "id": "988b7eee",
   "metadata": {},
   "outputs": [
    {
     "data": {
      "text/plain": [
       "array([[1, 0, 0],\n",
       "       [0, 1, 0],\n",
       "       [0, 0, 1]])"
      ]
     },
     "execution_count": 50,
     "metadata": {},
     "output_type": "execute_result"
    }
   ],
   "source": [
    "np.eye(3,dtype = int)"
   ]
  },
  {
   "cell_type": "code",
   "execution_count": 51,
   "id": "2402770f",
   "metadata": {},
   "outputs": [
    {
     "data": {
      "text/plain": [
       "array([[0, 1, 0],\n",
       "       [0, 0, 1],\n",
       "       [0, 0, 0]])"
      ]
     },
     "execution_count": 51,
     "metadata": {},
     "output_type": "execute_result"
    }
   ],
   "source": [
    "np.eye(3,k = 1,dtype = int)"
   ]
  },
  {
   "cell_type": "code",
   "execution_count": 54,
   "id": "589bec73",
   "metadata": {},
   "outputs": [
    {
     "data": {
      "text/plain": [
       "array([[0, 0, 1],\n",
       "       [0, 0, 0],\n",
       "       [0, 0, 0]])"
      ]
     },
     "execution_count": 54,
     "metadata": {},
     "output_type": "execute_result"
    }
   ],
   "source": [
    "np.eye(3,k = 2,dtype = int)"
   ]
  },
  {
   "cell_type": "code",
   "execution_count": 55,
   "id": "553ac8b8",
   "metadata": {},
   "outputs": [
    {
     "data": {
      "text/plain": [
       "array([[0, 0, 0],\n",
       "       [0, 0, 0],\n",
       "       [0, 0, 0]])"
      ]
     },
     "execution_count": 55,
     "metadata": {},
     "output_type": "execute_result"
    }
   ],
   "source": [
    "np.eye(3,k = 3,dtype = int)"
   ]
  },
  {
   "cell_type": "code",
   "execution_count": 56,
   "id": "5f903ecd",
   "metadata": {},
   "outputs": [
    {
     "data": {
      "text/plain": [
       "array([[0, 0, 0],\n",
       "       [1, 0, 0],\n",
       "       [0, 1, 0]])"
      ]
     },
     "execution_count": 56,
     "metadata": {},
     "output_type": "execute_result"
    }
   ],
   "source": [
    "np.eye(3,k = -1,dtype = int)"
   ]
  },
  {
   "cell_type": "code",
   "execution_count": 57,
   "id": "ed4f67a8",
   "metadata": {},
   "outputs": [
    {
     "data": {
      "text/plain": [
       "array([[0, 0, 0],\n",
       "       [0, 0, 0],\n",
       "       [1, 0, 0]])"
      ]
     },
     "execution_count": 57,
     "metadata": {},
     "output_type": "execute_result"
    }
   ],
   "source": [
    "np.eye(3,k = -2,dtype = int)"
   ]
  },
  {
   "cell_type": "code",
   "execution_count": 58,
   "id": "d3d3d5d0",
   "metadata": {},
   "outputs": [
    {
     "data": {
      "text/plain": [
       "array([[0, 0, 0],\n",
       "       [0, 0, 0],\n",
       "       [0, 0, 0]])"
      ]
     },
     "execution_count": 58,
     "metadata": {},
     "output_type": "execute_result"
    }
   ],
   "source": [
    "np.eye(3,k = -3,dtype = int)"
   ]
  },
  {
   "cell_type": "code",
   "execution_count": 63,
   "id": "59943900",
   "metadata": {},
   "outputs": [
    {
     "data": {
      "text/plain": [
       "array([[1, 0],\n",
       "       [0, 1],\n",
       "       [0, 0]])"
      ]
     },
     "execution_count": 63,
     "metadata": {},
     "output_type": "execute_result"
    }
   ],
   "source": [
    "np.eye(3, 2,0,dtype = int)"
   ]
  },
  {
   "cell_type": "code",
   "execution_count": null,
   "id": "f63cced3",
   "metadata": {},
   "outputs": [],
   "source": []
  },
  {
   "cell_type": "code",
   "execution_count": 65,
   "id": "ef8107d0",
   "metadata": {},
   "outputs": [],
   "source": [
    "# numpy.random.random() is one of the function for doing random sampling in numpy. \n",
    "# It returns an array of specified shape and fills it with random floats in the half-open interval [0.0, 1.0).\n",
    "# Syntax : numpy.random.random(size=None)\n",
    "\n",
    "# Parameters :\n",
    "# size : [int or tuple of ints, optional] Output shape. If the given shape is, e.g., (m, n, k), then m * n * k samples are drawn. Default is None, in which case a single value is returned.\n",
    "\n",
    "# Return : Array of random floats in the interval [0.0, 1.0). or a single such random float if size not provided."
   ]
  },
  {
   "cell_type": "code",
   "execution_count": 68,
   "id": "40615a1b",
   "metadata": {},
   "outputs": [
    {
     "data": {
      "text/plain": [
       "array([[0.57157659, 0.00333789, 0.3938436 , 0.28676072],\n",
       "       [0.26110535, 0.91083745, 0.64739973, 0.01666291],\n",
       "       [0.33264404, 0.6243731 , 0.17473249, 0.98790407]])"
      ]
     },
     "execution_count": 68,
     "metadata": {},
     "output_type": "execute_result"
    }
   ],
   "source": [
    "np.random.random((3,4)) "
   ]
  },
  {
   "cell_type": "code",
   "execution_count": 69,
   "id": "1817ae73",
   "metadata": {},
   "outputs": [],
   "source": [
    "# numpy.empty(shape, dtype = float, order = ‘C’) :\n",
    "# Return a new array of given shape and type, with random values.\n",
    "# Parameters :\n",
    "\n",
    "# -> shape : Number of rows\n",
    "# -> order : C_contiguous or F_contiguous\n",
    "# -> dtype : [optional, float(by Default)] Data type of returned array."
   ]
  },
  {
   "cell_type": "code",
   "execution_count": 76,
   "id": "c825223c",
   "metadata": {},
   "outputs": [
    {
     "data": {
      "text/plain": [
       "array([[ 10.,  20.,  30.,  40.,  50.,  60.,  70.,  80.,  90., 100.]])"
      ]
     },
     "execution_count": 76,
     "metadata": {},
     "output_type": "execute_result"
    }
   ],
   "source": [
    "np.empty((1,10) , order = 'c')"
   ]
  },
  {
   "cell_type": "code",
   "execution_count": 77,
   "id": "a45ab639",
   "metadata": {},
   "outputs": [],
   "source": [
    "# Saving & Loading On Disk"
   ]
  },
  {
   "cell_type": "code",
   "execution_count": null,
   "id": "712308fe",
   "metadata": {},
   "outputs": [],
   "source": [
    "# numpy.save()function is used to store the input array in a disk file with npy extension(.npy).\n",
    "\n",
    "# Syntax : numpy.save(file, arr, allow_pickle=True, fix_imports=True)\n",
    "\n",
    "# Parameters:\n",
    "# file : : File or filename to which the data is saved. If file is a string or Path, a .npy extension will be appended to the file name if it does not already have one.If file is a file-object, then the filename is unchanged.\n",
    "# allow_pickle : : Allow saving object arrays using Python pickles. Reasons for disallowing pickles include security (loading pickled data can execute arbitrary code) and portability (pickled objects may not be loadable on different Python installations). Default: True\n",
    "# fix_imports : Only useful in forcing objects in object arrays on Python 3 to be pickled in a Python 2 compatible way.\n",
    "# arr : Array data to be saved.\n",
    "\n",
    "# Return : Stores the input array in a disk file with npy extension(.npy)."
   ]
  },
  {
   "cell_type": "code",
   "execution_count": 85,
   "id": "0b896c39",
   "metadata": {},
   "outputs": [],
   "source": [
    "a = np.empty((7,6),int)"
   ]
  },
  {
   "cell_type": "code",
   "execution_count": 86,
   "id": "a9d87a5d",
   "metadata": {},
   "outputs": [],
   "source": [
    "np.save(\"test\",a)"
   ]
  },
  {
   "cell_type": "code",
   "execution_count": 88,
   "id": "b6e5b28d",
   "metadata": {},
   "outputs": [
    {
     "data": {
      "text/plain": [
       "array([[0, 0, 0, 0, 0, 0],\n",
       "       [0, 0, 0, 0, 0, 0],\n",
       "       [0, 0, 0, 0, 0, 0],\n",
       "       [0, 0, 0, 0, 0, 0],\n",
       "       [0, 0, 0, 0, 0, 0],\n",
       "       [0, 0, 0, 0, 0, 0],\n",
       "       [0, 0, 0, 0, 0, 0]])"
      ]
     },
     "execution_count": 88,
     "metadata": {},
     "output_type": "execute_result"
    }
   ],
   "source": [
    "np.load('test.npy')"
   ]
  },
  {
   "cell_type": "code",
   "execution_count": 89,
   "id": "6869958a",
   "metadata": {},
   "outputs": [],
   "source": [
    "b = np.sin(a)"
   ]
  },
  {
   "cell_type": "code",
   "execution_count": 120,
   "id": "987d7dcd",
   "metadata": {},
   "outputs": [],
   "source": [
    "np.savez('sine',a,b)"
   ]
  },
  {
   "cell_type": "code",
   "execution_count": 121,
   "id": "b1abf0ee",
   "metadata": {},
   "outputs": [],
   "source": [
    "result_files = np.load('sine.npz')"
   ]
  },
  {
   "cell_type": "code",
   "execution_count": 122,
   "id": "6feb5ed8",
   "metadata": {},
   "outputs": [
    {
     "data": {
      "text/plain": [
       "['arr_0', 'arr_1']"
      ]
     },
     "execution_count": 122,
     "metadata": {},
     "output_type": "execute_result"
    }
   ],
   "source": [
    "result_files.files"
   ]
  },
  {
   "cell_type": "code",
   "execution_count": 123,
   "id": "2b534197",
   "metadata": {},
   "outputs": [
    {
     "data": {
      "text/plain": [
       "array([[0, 0, 0, 0, 0, 0],\n",
       "       [0, 0, 0, 0, 0, 0],\n",
       "       [0, 0, 0, 0, 0, 0],\n",
       "       [0, 0, 0, 0, 0, 0],\n",
       "       [0, 0, 0, 0, 0, 0],\n",
       "       [0, 0, 0, 0, 0, 0],\n",
       "       [0, 0, 0, 0, 0, 0]])"
      ]
     },
     "execution_count": 123,
     "metadata": {},
     "output_type": "execute_result"
    }
   ],
   "source": [
    "result_files['arr_0']\n"
   ]
  },
  {
   "cell_type": "code",
   "execution_count": 124,
   "id": "562941f7",
   "metadata": {},
   "outputs": [
    {
     "data": {
      "text/plain": [
       "array([[0., 0., 0., 0., 0., 0.],\n",
       "       [0., 0., 0., 0., 0., 0.],\n",
       "       [0., 0., 0., 0., 0., 0.],\n",
       "       [0., 0., 0., 0., 0., 0.],\n",
       "       [0., 0., 0., 0., 0., 0.],\n",
       "       [0., 0., 0., 0., 0., 0.],\n",
       "       [0., 0., 0., 0., 0., 0.]])"
      ]
     },
     "execution_count": 124,
     "metadata": {},
     "output_type": "execute_result"
    }
   ],
   "source": [
    "result_files['arr_1']"
   ]
  },
  {
   "cell_type": "code",
   "execution_count": 125,
   "id": "77a82256",
   "metadata": {},
   "outputs": [
    {
     "data": {
      "text/plain": [
       "array([[1, 1, 1, 1, 1, 1, 1, 1, 1, 1],\n",
       "       [1, 1, 1, 1, 1, 1, 1, 1, 1, 1],\n",
       "       [1, 1, 1, 1, 1, 1, 1, 1, 1, 1],\n",
       "       [1, 1, 1, 1, 1, 1, 1, 1, 1, 1],\n",
       "       [1, 1, 1, 1, 1, 1, 1, 1, 1, 1],\n",
       "       [1, 1, 1, 1, 1, 1, 1, 1, 1, 1],\n",
       "       [1, 1, 1, 1, 1, 1, 1, 1, 1, 1],\n",
       "       [1, 1, 1, 1, 1, 1, 1, 1, 1, 1],\n",
       "       [1, 1, 1, 1, 1, 1, 1, 1, 1, 1],\n",
       "       [1, 1, 1, 1, 1, 1, 1, 1, 1, 1],\n",
       "       [1, 1, 1, 1, 1, 1, 1, 1, 1, 1],\n",
       "       [1, 1, 1, 1, 1, 1, 1, 1, 1, 1]])"
      ]
     },
     "execution_count": 125,
     "metadata": {},
     "output_type": "execute_result"
    }
   ],
   "source": [
    "c = np.ones((12,10), int)\n",
    "c"
   ]
  },
  {
   "cell_type": "code",
   "execution_count": 116,
   "id": "a33dc291",
   "metadata": {},
   "outputs": [],
   "source": [
    "# we can store multiple np.arrays\n",
    "np.savez(\"hello\",a,b,c)"
   ]
  },
  {
   "cell_type": "code",
   "execution_count": 126,
   "id": "78540e27",
   "metadata": {},
   "outputs": [
    {
     "data": {
      "text/plain": [
       "array([[0., 0., 0., 0., 0., 0.],\n",
       "       [0., 0., 0., 0., 0., 0.],\n",
       "       [0., 0., 0., 0., 0., 0.],\n",
       "       [0., 0., 0., 0., 0., 0.],\n",
       "       [0., 0., 0., 0., 0., 0.],\n",
       "       [0., 0., 0., 0., 0., 0.],\n",
       "       [0., 0., 0., 0., 0., 0.]])"
      ]
     },
     "execution_count": 126,
     "metadata": {},
     "output_type": "execute_result"
    }
   ],
   "source": [
    "np.load('hello.npz')['arr_1']"
   ]
  },
  {
   "cell_type": "markdown",
   "id": "cf616dc3",
   "metadata": {},
   "source": [
    "# Saving and Loading from text files \n",
    "##  np.loadtxt( )\n",
    "\n",
    "##  np.genfromtxt( , delimiter= )\n",
    "\n",
    "##  np.savetxt( , a, delimiter= )"
   ]
  },
  {
   "cell_type": "code",
   "execution_count": null,
   "id": "48b79c9d",
   "metadata": {},
   "outputs": [],
   "source": [
    "# numpy.load() in Python is used load data from a text file, with aim to be a fast reader for simple text files.\n",
    "\n",
    "# Note that each row in the text file must have the same number of values.\n",
    "\n",
    "# Syntax: numpy.loadtxt(fname, dtype=’float’, comments=’#’, delimiter=None, converters=None, skiprows=0, usecols=None, unpack=False, ndmin=0)\n",
    "\n",
    "# Parameters:\n",
    "# fname : File, filename, or generator to read. If the filename extension is .gz or .bz2, the file is first decompressed. Note that generators should return byte strings for Python 3k.\n",
    "# dtype : Data-type of the resulting array; default: float. If this is a structured data-type, the resulting array will be 1-dimensional, and each row will be interpreted as an element of the array.\n",
    "# delimiter : The string used to separate values. By default, this is any whitespace.\n",
    "# converters : A dictionary mapping column number to a function that will convert that column to a float. E.g., if column 0 is a date string: converters = {0: datestr2num}. Default: None.\n",
    "# skiprows : Skip the first skiprows lines; default: 0."
   ]
  },
  {
   "cell_type": "code",
   "execution_count": 128,
   "id": "f0d389f3",
   "metadata": {},
   "outputs": [
    {
     "name": "stdout",
     "output_type": "stream",
     "text": [
      "[[0. 1. 2.]\n",
      " [3. 4. 5.]]\n"
     ]
    }
   ],
   "source": [
    "# Python program explaining\n",
    "# loadtxt() function\n",
    "import numpy as geek\n",
    "\n",
    "# StringIO behaves like a file object\n",
    "from io import StringIO\n",
    "\n",
    "c = StringIO(\"0 1 2 \\n3 4 5\")\n",
    "d = geek.loadtxt(c)\n",
    "\n",
    "print(d)\n"
   ]
  },
  {
   "cell_type": "code",
   "execution_count": 143,
   "id": "8de8d3c1",
   "metadata": {},
   "outputs": [
    {
     "name": "stdout",
     "output_type": "stream",
     "text": [
      "x is:  [1. 4. 7.]\n",
      "y is:  [2. 5. 8.]\n",
      "z is:  [3. 6. 9.]\n"
     ]
    }
   ],
   "source": [
    "# Python program explaining\n",
    "# loadtxt() function\n",
    "import numpy as geek\n",
    "\n",
    "# StringIO behaves like a file object\n",
    "from io import StringIO\n",
    "\n",
    "c = StringIO(\"1, 2, 3\\n4, 5, 6\\n7, 8, 9\\n\")\n",
    "x, y , z  = geek.loadtxt(c, delimiter =', ', usecols =(0, 1, 2),unpack = True)\n",
    "\n",
    "print(\"x is: \", x)\n",
    "print(\"y is: \", y)\n",
    "print(\"z is: \", z)\n"
   ]
  },
  {
   "cell_type": "code",
   "execution_count": null,
   "id": "11054175",
   "metadata": {},
   "outputs": [],
   "source": []
  }
 ],
 "metadata": {
  "kernelspec": {
   "display_name": "Python 3 (ipykernel)",
   "language": "python",
   "name": "python3"
  },
  "language_info": {
   "codemirror_mode": {
    "name": "ipython",
    "version": 3
   },
   "file_extension": ".py",
   "mimetype": "text/x-python",
   "name": "python",
   "nbconvert_exporter": "python",
   "pygments_lexer": "ipython3",
   "version": "3.9.13"
  }
 },
 "nbformat": 4,
 "nbformat_minor": 5
}
